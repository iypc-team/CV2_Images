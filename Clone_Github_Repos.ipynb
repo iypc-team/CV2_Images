{
  "nbformat": 4,
  "nbformat_minor": 0,
  "metadata": {
    "colab": {
      "name": "Clone_Github_Repos",
      "provenance": [],
      "private_outputs": true,
      "collapsed_sections": [],
      "include_colab_link": true
    },
    "kernelspec": {
      "name": "python3",
      "display_name": "Python 3"
    }
  },
  "cells": [
    {
      "cell_type": "markdown",
      "metadata": {
        "id": "view-in-github",
        "colab_type": "text"
      },
      "source": [
        "<a href=\"https://colab.research.google.com/github/iypc-team/NewNotebook/blob/master/Clone_Github_Repos.ipynb\" target=\"_parent\"><img src=\"https://colab.research.google.com/assets/colab-badge.svg\" alt=\"Open In Colab\"/></a>"
      ]
    },
    {
      "cell_type": "code",
      "metadata": {
        "id": "PaqWKKdlhH64",
        "colab_type": "code",
        "colab": {}
      },
      "source": [
        "from __future__ import absolute_import, division\n",
        "from __future__ import print_function, unicode_literals\n",
        "from IPython.display import clear_output\n",
        "!pip3 install GitPython\n",
        "clear_output()"
      ],
      "execution_count": null,
      "outputs": []
    },
    {
      "cell_type": "code",
      "metadata": {
        "id": "-aGqrxxWXK4l",
        "colab_type": "code",
        "colab": {}
      },
      "source": [
        "import git, glob, os, pathlib\n",
        "from os.path import *\n",
        "from pathlib import Path\n",
        "from git import Repo\n",
        "cwdDir Path.cwd()\n",
        "\n",
        "repoPathList = ['https://github.com/iypc-team/NewNotebook', \n",
        "                'https://github.com/iypc-team/CoLab']\n",
        "\n",
        "cwdDir = Path.cwd()\n",
        "for item in repoPathList:\n",
        "    githubPath = Path(item)\n",
        "    localPath = join(Path.cwd(), githubPath.name)\n",
        "    githubPath = abspath(githubPath)\n",
        "    if not exists(localPath):\n",
        "        repo = Repo.clone_from(githubPath, localPath)\n",
        "\n",
        "os.chdir(cwdDir)"
      ],
      "execution_count": null,
      "outputs": []
    },
    {
      "cell_type": "code",
      "metadata": {
        "id": "HfgCf7TLvHB6",
        "colab_type": "code",
        "colab": {}
      },
      "source": [
        "allFiles = glob.glob('**', recursive=True)\n",
        "allFilesDict = {}\n",
        "fileCount = 0\n",
        "for fil in allFiles:\n",
        "    fullPath = Path(realpath(fil))\n",
        "    if isdir(fullPath):\n",
        "        print(f'\\n{fullPath}')\n",
        "    elif isfile(fullPath):\n",
        "        fileCount += 1\n",
        "        allFilesDict[fileCount] = fullPath\n",
        "        print(f'{fileCount}. {fullPath.name}')"
      ],
      "execution_count": null,
      "outputs": []
    },
    {
      "cell_type": "code",
      "metadata": {
        "id": "WKoknFuMHI-Y",
        "colab_type": "code",
        "colab": {}
      },
      "source": [
        "repoFilesDict = {}\n",
        "fileCount = 0\n",
        "for fil in repoFiles:\n",
        "    fullPath = Path(realpath(fil))\n",
        "    if isdir(fullPath):\n",
        "        print(f'{fullPath}')\n",
        "    elif isfile(fullPath):\n",
        "        pass\n",
        "    \n",
        "    "
      ],
      "execution_count": null,
      "outputs": []
    }
  ]
}
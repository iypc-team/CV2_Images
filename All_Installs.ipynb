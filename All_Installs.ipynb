{
 "cells": [
  {
   "cell_type": "code",
   "execution_count": null,
   "metadata": {
    "colab": {},
    "colab_type": "code",
    "id": "WKoknFuMHI-Y"
   },
   "outputs": [],
   "source": [
    "# 11/7/2021-1\n",
    "from __future__ import absolute_import, division\n",
    "from __future__ import print_function, unicode_literals\n",
    "from IPython.display import clear_output\n",
    "\n",
    "import glob, os\n",
    "from os.path import *\n",
    "import TarfileFunctions\n",
    "from TarfileFunctions import *\n",
    "from BashColors import C\n",
    "\n",
    "contentPath=os.getcwd()\n",
    "\n",
    "try: \n",
    "    import numpy as np\n",
    "    print(f'numpy: {C.IBlue}{np.__version__}{C.ColorOff}')\n",
    "except ModuleNotFoundError as err:\n",
    "    print(f'{C.IRed}{err}{C.ColorOff}\\n')\n",
    "    %pip install numpy\n",
    "    import numpy as np\n",
    "    \n",
    "try: \n",
    "    import tensorflow as tf\n",
    "    print(f'tensorflow: {C.IBlue}{tf.__version__}{C.ColorOff}')\n",
    "except ModuleNotFoundError as err:\n",
    "    print(f'{C.IRed}{err}{C.ColorOff}\\n')\n",
    "    %pip install tensorflow\n",
    "    import tensorflow as tf\n",
    "\n",
    "try: \n",
    "    import cv2\n",
    "    from cv2 import COLOR_BGR2RGBA, IMREAD_UNCHANGED\n",
    "    print(f'cv2: {C.IBlue}{cv2.__version__}{C.ColorOff}')\n",
    "except ModuleNotFoundError as err:\n",
    "    print(f'{C.IRed}{err}{C.ColorOff}\\n')\n",
    "    %pip install opencv-python-headless # works.\n",
    "    # %pip install opencv-contrib-python-headless\n",
    "    import cv2\n",
    "    from cv2 import COLOR_BGR2RGBA, IMREAD_UNCHANGED\n",
    "\n",
    "try:\n",
    "    import matplotlib\n",
    "    from matplotlib import pyplot as plt\n",
    "    print(f'matplotlib: {C.IBlue}{matplotlib.__version__}{C.ColorOff}')\n",
    "except Exception as err:\n",
    "    print(f'\\n{C.IRed}{err}{C.ColorOff}\\n')\n",
    "    %pip install matplotlib\n",
    "    import matplotlib\n",
    "    from matplotlib import pyplot as plt\n",
    "    \n",
    "import CV2_Utils\n",
    "from CV2_Utils import *"
   ]
  },
  {
   "cell_type": "code",
   "execution_count": null,
   "metadata": {},
   "outputs": [],
   "source": [
    "\n",
    "cv2Path = join(contentPath, 'CV2Images')\n",
    "if exists(cv2Path):\n",
    "    shutil.rmtree(cv2Path)\n",
    "\n",
    "if not exists(cv2Path):\n",
    "    tff.extractTarfiles('All_CV2_Images.tar.gz')\n"
   ]
  },
  {
   "cell_type": "code",
   "execution_count": null,
   "metadata": {},
   "outputs": [],
   "source": [
    "os.chdir(cv2Path)\n",
    "globList = glob.glob('**', recursive=True)\n",
    "for pth in sorted(globList):\n",
    "    fullPath=abspath(pth)\n",
    "    print(fullPath)"
   ]
  }
 ],
 "metadata": {
  "colab": {
   "collapsed_sections": [],
   "include_colab_link": true,
   "name": "New-Notebook",
   "private_outputs": true,
   "provenance": []
  },
  "kernelspec": {
   "display_name": "Python 3 (ipykernel)",
   "language": "python",
   "name": "python3"
  },
  "language_info": {
   "codemirror_mode": {
    "name": "ipython",
    "version": 3
   },
   "file_extension": ".py",
   "mimetype": "text/x-python",
   "name": "python",
   "nbconvert_exporter": "python",
   "pygments_lexer": "ipython3",
   "version": "3.7.10"
  }
 },
 "nbformat": 4,
 "nbformat_minor": 1
}

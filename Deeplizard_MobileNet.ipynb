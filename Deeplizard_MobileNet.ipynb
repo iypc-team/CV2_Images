{
 "cells": [
  {
   "cell_type": "code",
   "execution_count": null,
   "id": "75c9b717",
   "metadata": {},
   "outputs": [],
   "source": [
    "# 11/9/2021-1\n",
    "# https://m.youtube.com/watch?v=Zrt76AIbeh4&noapp=1&noapp=1\n",
    "import os\n",
    "from os.path import *\n",
    "from BashColors import C\n",
    "import numpy as np\n",
    "import tensorflow\n",
    "from tensorflow import keras\n",
    "# import keras\n",
    "from keras import backend as K\n",
    "from keras.layers.core import Dense, Activation\n",
    "from tensorflow.keras.optimizers import Adam\n",
    "from keras.metrics import categorical_crossentropy\n",
    "from keras.preprocessing.image import ImageDataGenerator\n",
    "from keras.preprocessing import image\n",
    "from keras.models import Model\n",
    "from keras.applications import imagenet_utils\n",
    "# from sklearn.metrics import confusion_matrix\n",
    "import itertools\n",
    "import matplotlib.pyplot as plt\n",
    "%matplotlib inline\n",
    "\n",
    "contentPath=os.getcwd()\n",
    "imgPath=join(contentPath, 'friendly_validation_12.png')"
   ]
  },
  {
   "cell_type": "code",
   "execution_count": null,
   "id": "ae5c8193",
   "metadata": {},
   "outputs": [],
   "source": [
    "def prepare_image(file):\n",
    "    # img_path = 'MobileNet-inference-images/'\n",
    "    img = image.load_img(file, target_size=(224, 224))\n",
    "    img_array = image.img_to_array(img)\n",
    "    img_array_expanded_dims = np.expand_dims(img_array, axis=0)\n",
    "    return keras.applications.mobilenet.preprocess_input(img_array_expanded_dims)"
   ]
  },
  {
   "cell_type": "code",
   "execution_count": null,
   "id": "c3a776b9",
   "metadata": {},
   "outputs": [],
   "source": [
    "mobile = keras.applications.mobilenet.MobileNet()\n",
    "\n",
    "layerCount=0\n",
    "for layer in mobile.layers:\n",
    "    # print(layer)\n",
    "    layerCount+=1\n",
    "# layerCount\n",
    "print(f'{layerCount} layers')\n",
    "print(f'{C.BIBlue}\\n')\n",
    "mobile.summary()"
   ]
  },
  {
   "cell_type": "code",
   "execution_count": null,
   "id": "ae231ece",
   "metadata": {},
   "outputs": [],
   "source": [
    "from IPython.display import Image\n",
    "Image(filename='test_0071.jpg', width=224,height=224)"
   ]
  },
  {
   "cell_type": "code",
   "execution_count": null,
   "id": "73d25c06",
   "metadata": {},
   "outputs": [],
   "source": [
    "preprocessed_image = prepare_image('test_0071.jpg')\n",
    "predictions = mobile.predict(preprocessed_image)\n",
    "results = imagenet_utils.decode_predictions(predictions)\n",
    "\n",
    "for result in results:\n",
    "    print(result)"
   ]
  },
  {
   "cell_type": "code",
   "execution_count": null,
   "id": "a2b38b05",
   "metadata": {},
   "outputs": [],
   "source": [
    "from IPython.display import Image\n",
    "Image(filename='enemy.png', width=224,height=224)"
   ]
  },
  {
   "cell_type": "code",
   "execution_count": null,
   "id": "e4c21405",
   "metadata": {},
   "outputs": [],
   "source": [
    "preprocessed_image = prepare_image('enemy.png')\n",
    "predictions = mobile.predict(preprocessed_image)\n",
    "results = imagenet_utils.decode_predictions(predictions)\n",
    "\n",
    "for result in results:\n",
    "    print(result)"
   ]
  },
  {
   "cell_type": "code",
   "execution_count": null,
   "id": "6b8a672f",
   "metadata": {},
   "outputs": [],
   "source": [
    "x=mobile.layers[-6].output\n",
    "output=Dense(units=2, activation='softmax')(x)"
   ]
  },
  {
   "cell_type": "code",
   "execution_count": null,
   "id": "50912692",
   "metadata": {},
   "outputs": [],
   "source": [
    "model=Model(mobile.inputs, output)"
   ]
  },
  {
   "cell_type": "code",
   "execution_count": null,
   "id": "66e12eee",
   "metadata": {},
   "outputs": [],
   "source": [
    "for layer in model.layers[:-23]:\n",
    "    # print(layer)\n",
    "    layer.trainable=False"
   ]
  },
  {
   "cell_type": "code",
   "execution_count": null,
   "id": "d3852f77",
   "metadata": {},
   "outputs": [],
   "source": [
    "print(f'{C.Green}')\n",
    "model.summary()"
   ]
  },
  {
   "cell_type": "code",
   "execution_count": null,
   "id": "860868fe",
   "metadata": {},
   "outputs": [],
   "source": []
  },
  {
   "cell_type": "code",
   "execution_count": null,
   "id": "d9056366",
   "metadata": {},
   "outputs": [],
   "source": []
  },
  {
   "cell_type": "code",
   "execution_count": null,
   "id": "78664258",
   "metadata": {},
   "outputs": [],
   "source": []
  }
 ],
 "metadata": {
  "kernelspec": {
   "display_name": "Python 3 (ipykernel)",
   "language": "python",
   "name": "python3"
  },
  "language_info": {
   "codemirror_mode": {
    "name": "ipython",
    "version": 3
   },
   "file_extension": ".py",
   "mimetype": "text/x-python",
   "name": "python",
   "nbconvert_exporter": "python",
   "pygments_lexer": "ipython3",
   "version": "3.7.10"
  }
 },
 "nbformat": 4,
 "nbformat_minor": 5
}

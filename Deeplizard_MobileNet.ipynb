{
 "cells": [
  {
   "cell_type": "code",
   "execution_count": null,
   "id": "75c9b717",
   "metadata": {},
   "outputs": [],
   "source": [
    "# 11/11/2021-1\n",
    "# https://m.youtube.com/watch?v=Zrt76AIbeh4&noapp=1&noapp=1\n",
    "import os\n",
    "from os.path import *\n",
    "from CV2_Utils import *\n",
    "from BashColors import C\n",
    "import numpy as np\n",
    "import tensorflow\n",
    "from tensorflow import keras\n",
    "# import keras\n",
    "from keras import backend as K\n",
    "from keras.layers.core import Dense, Activation\n",
    "from tensorflow.keras.optimizers import Adam\n",
    "from keras.metrics import categorical_crossentropy\n",
    "from keras.preprocessing.image import ImageDataGenerator\n",
    "from keras.preprocessing import image\n",
    "from keras.models import Model\n",
    "from keras.applications import imagenet_utils\n",
    "# from sklearn.metrics import confusion_matrix\n",
    "import itertools\n",
    "import matplotlib.pyplot as plt\n",
    "%matplotlib inline\n",
    "\n",
    "contentPath=os.getcwd()\n",
    "cv2Path=join(contentPath, 'CV2Images')\n",
    "imgPath=join(contentPath, 'friendly_validation_12.png')\n"
   ]
  },
  {
   "cell_type": "code",
   "execution_count": null,
   "id": "ae5c8193",
   "metadata": {},
   "outputs": [],
   "source": [
    "def prepare_image(file):\n",
    "    ''' '''\n",
    "    # img_path = 'MobileNet-inference-images/'\n",
    "    img = image.load_img(file, target_size=(224, 224))\n",
    "    img_array = image.img_to_array(img)\n",
    "    img_array_expanded_dims = np.expand_dims(img_array, axis=0)\n",
    "    return keras.applications.mobilenet.preprocess_input(img_array_expanded_dims)"
   ]
  },
  {
   "cell_type": "code",
   "execution_count": null,
   "id": "c3a776b9",
   "metadata": {},
   "outputs": [],
   "source": [
    "mobile = keras.applications.mobilenet.MobileNet()\n",
    "\n",
    "layerCount=0\n",
    "for layer in mobile.layers:\n",
    "    # print(layer)\n",
    "    layerCount+=1\n",
    "    print(f'{layerCount} {C.BBlue}{layer}{C.ColorOff}\\n')\n",
    "# layerCount\n",
    "print(f'{layerCount} layers')\n",
    "print(f'{C.ColorOff}\\n')\n",
    "mobile.summary()"
   ]
  },
  {
   "cell_type": "code",
   "execution_count": null,
   "id": "ae231ece",
   "metadata": {},
   "outputs": [],
   "source": [
    "from IPython.display import Image\n",
    "img=Image(filename='test_0071.jpg', width=224,height=224)"
   ]
  },
  {
   "cell_type": "code",
   "execution_count": null,
   "id": "73d25c06",
   "metadata": {},
   "outputs": [],
   "source": [
    "preprocessed_image = prepare_image('test_0071.jpg')\n",
    "img=cvu.loadCV2Image('test_0071.jpg')\n",
    "cvu.plotShowSingleImage(img)\n",
    "predictions = mobile.predict(preprocessed_image)\n",
    "results = imagenet_utils.decode_predictions(predictions)\n",
    "\n",
    "for result in results:\n",
    "    print(result)\n",
    "    \n",
    "print(type(result[0]))\n",
    "print(f'{C.BIBlue}{result[0]}{C.ColorOff}')\n",
    "\n",
    "_,name,value=result[0]\n",
    "value *= 100\n",
    "if value < 99.5:\n",
    "    value=round(value, 1)\n",
    "print(f'{name}: {C.BIBlue}{value}{C.ColorOff} percent probability')"
   ]
  },
  {
   "cell_type": "code",
   "execution_count": null,
   "id": "a2b38b05",
   "metadata": {},
   "outputs": [],
   "source": [
    "from IPython.display import Image\n",
    "img=Image(filename='enemy.png', width=224,height=224)"
   ]
  },
  {
   "cell_type": "code",
   "execution_count": null,
   "id": "e4c21405",
   "metadata": {},
   "outputs": [],
   "source": [
    "preprocessed_image = prepare_image('enemy.png')\n",
    "img=cvu.loadCV2Image('enemy.png')\n",
    "cvu.plotShowSingleImage(img)\n",
    "predictions = mobile.predict(preprocessed_image)\n",
    "results = imagenet_utils.decode_predictions(predictions)\n",
    "\n",
    "for result in results:\n",
    "    print(result)\n",
    "print(f'{C.BIBlue}{result[0]}{C.ColorOff}')\n",
    "\n",
    "_,name,value=result[0]\n",
    "value *= 100\n",
    "if value < 99.5:\n",
    "    value=round(value, 1)\n",
    "print(f'{name}: {C.BIBlue}{value}{C.ColorOff} percent probability')"
   ]
  },
  {
   "cell_type": "code",
   "execution_count": null,
   "id": "74816d4a",
   "metadata": {},
   "outputs": [],
   "source": [
    "print(mobile.layers[-5].output)"
   ]
  },
  {
   "cell_type": "code",
   "execution_count": null,
   "id": "6b8a672f",
   "metadata": {},
   "outputs": [],
   "source": [
    "x=mobile.layers[-5].output\n",
    "output=Dense(units=2, activation='softmax')(x)"
   ]
  },
  {
   "cell_type": "code",
   "execution_count": null,
   "id": "66e12eee",
   "metadata": {},
   "outputs": [],
   "source": [
    "model=Model(mobile.inputs, output)\n",
    "layerCount=0\n",
    "for layer in model.layers[:]: # -23\n",
    "    print(f'{layerCount}. {layer}')\n",
    "    if str(layer).__contains__('Zero'):\n",
    "        print(f'{layerCount}. {C.IRed}{layer}')\n",
    "    # layer.trainable=False\n",
    "    layerCount+=1\n",
    "\n",
    "print(f'{C.ColorOff}')\n",
    "model.summary()"
   ]
  },
  {
   "cell_type": "code",
   "execution_count": null,
   "id": "d9056366",
   "metadata": {},
   "outputs": [],
   "source": [
    "model.compile(optimizer=Adam(learning_rate=0.0001),\n",
    "             loss='categorical_crossentropy',\n",
    "             metrics=['accuracy'])\n",
    "print(f'model.built: {model.built}')"
   ]
  },
  {
   "cell_type": "code",
   "execution_count": null,
   "id": "96d3f396",
   "metadata": {},
   "outputs": [],
   "source": [
    "import tensorflow as tf\n",
    "\n",
    "batch_size = 4\n",
    "img_height = 224\n",
    "img_width = 224\n",
    "\n",
    "train_ds = tf.keras.utils.image_dataset_from_directory(\n",
    "    cv2Path,\n",
    "    color_mode='rgb',\n",
    "    validation_split=0.2,\n",
    "    subset=\"training\",\n",
    "    seed=123,\n",
    "    image_size=(img_height, img_width),\n",
    "    batch_size=batch_size)\n",
    "print()\n",
    "\n",
    "val_ds = tf.keras.utils.image_dataset_from_directory(\n",
    "    cv2Path,\n",
    "    color_mode='rgb',\n",
    "    validation_split=0.2,\n",
    "    subset=\"validation\",\n",
    "    seed=123,\n",
    "    image_size=(img_height, img_width),\n",
    "    batch_size=batch_size)"
   ]
  },
  {
   "cell_type": "code",
   "execution_count": null,
   "id": "78664258",
   "metadata": {},
   "outputs": [],
   "source": [
    "history=model.fit(x=train_ds, y=None,\n",
    "                  epochs=1, verbose=2)"
   ]
  }
 ],
 "metadata": {
  "kernelspec": {
   "display_name": "Python 3 (ipykernel)",
   "language": "python",
   "name": "python3"
  },
  "language_info": {
   "codemirror_mode": {
    "name": "ipython",
    "version": 3
   },
   "file_extension": ".py",
   "mimetype": "text/x-python",
   "name": "python",
   "nbconvert_exporter": "python",
   "pygments_lexer": "ipython3",
   "version": "3.7.10"
  }
 },
 "nbformat": 4,
 "nbformat_minor": 5
}

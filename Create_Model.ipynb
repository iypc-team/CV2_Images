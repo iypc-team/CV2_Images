{
 "cells": [
  {
   "cell_type": "code",
   "execution_count": null,
   "id": "7157735d",
   "metadata": {},
   "outputs": [],
   "source": [
    "# 11/7/2021-1\n",
    "# https://www.tensorflow.org/tutorials/load_data/images\n",
    "from __future__ import absolute_import\n",
    "from IPython.display import clear_output\n",
    "import glob, os, shutil, sys, uuid\n",
    "from os.path import *\n",
    "from time import sleep\n",
    "from TarfileFunctions import *\n",
    "from BashColors import C\n",
    "\n",
    "contentPath = os.getcwd()\n",
    "cv2Path = join(contentPath, 'CV2Images')\n",
    "\n",
    "if exists(cv2Path):\n",
    "    shutil.rmtree(cv2Path)\n",
    "    sleep(0.05)\n",
    "if not exists(cv2Path):\n",
    "    tff.extractTarfiles('All_CV2_Images.tar.gz')\n",
    "    sleep(0.05)\n",
    "\n",
    "try:\n",
    "    import tensorflow as tf\n",
    "    from tensorflow import keras\n",
    "except Exception as err:\n",
    "    print(err)\n",
    "    %pip install tensorflow\n",
    "    \n",
    "import numpy as np\n",
    "\n",
    "try: \n",
    "    from matplotlib import pyplot as plt\n",
    "except Exception as err:\n",
    "        %pip install matplotlib\n",
    "        from matplotlib import pyplot as plt\n",
    "\n",
    "try:\n",
    "    import cv2\n",
    "except Exception as err:\n",
    "    %pip install opencv-python-headless # works.\n",
    "    import cv2\n",
    "from CV2_Utils import *\n",
    "    \n",
    "os.chdir(contentPath)\n",
    "clear_output()\n",
    "import tensorflow as tf\n",
    "print(f'tf version: {C.IBlue}{tf.__version__}{C.ColorOff}')\n",
    "print(f'cwd: {C.IBlue}{os.getcwd()}{C.ColorOff}')"
   ]
  },
  {
   "cell_type": "code",
   "execution_count": null,
   "id": "33cf5a28",
   "metadata": {},
   "outputs": [],
   "source": [
    "from tensorflow.keras.utils import image_dataset_from_directory\n",
    "train_ds = image_dataset_from_directory(\n",
    "    cv2Path,\n",
    "    color_mode='rgba',\n",
    "    validation_split=0.2,\n",
    "    subset=\"training\",\n",
    "    seed=456,\n",
    "    image_size=(224, 224),\n",
    "    batch_size=4)\n",
    "print()\n",
    "val_ds = image_dataset_from_directory(\n",
    "    cv2Path,\n",
    "    color_mode='rgba',\n",
    "    validation_split=0.2,\n",
    "    subset=\"validation\",\n",
    "    seed=456,\n",
    "    image_size=(224, 224),\n",
    "    batch_size=4)\n",
    "print()\n"
   ]
  },
  {
   "cell_type": "code",
   "execution_count": null,
   "id": "eb986013",
   "metadata": {},
   "outputs": [],
   "source": [
    "for image, labels in train_ds:\n",
    "    print(f'image.shape: {image.shape}')\n",
    "    print(f'labels.shape: {labels.shape}')\n",
    "    break"
   ]
  },
  {
   "cell_type": "code",
   "execution_count": null,
   "id": "95870fb5",
   "metadata": {},
   "outputs": [],
   "source": [
    "\n",
    "from tensorflow.keras.models import Sequential, SparseCategoricalCrossentropy\n",
    "# Define a simple sequential model\n",
    "def create_model():\n",
    "    pretrained_model = tf.keras.applications.MobileNet()\n",
    "    result_before_save = pretrained_model(x)\n",
    "    decoded = imagenet_labels[np.argsort(result_before_save)[0,::-1][:5]+1]\n",
    "    print(\"Result before saving:\\n\", decoded)\n",
    "    return pretrained_model"
   ]
  },
  {
   "cell_type": "code",
   "execution_count": null,
   "id": "bfd717b8",
   "metadata": {},
   "outputs": [],
   "source": [
    "# Create a basic model instance\n",
    "model = create_model()\n",
    "\n",
    "# Display the model's architecture\n",
    "model.summary()"
   ]
  },
  {
   "cell_type": "code",
   "execution_count": null,
   "id": "c40cf6b0",
   "metadata": {},
   "outputs": [],
   "source": [
    "checkpoint_path = \"training_1/cp.ckpt\"\n",
    "checkpoint_dir = os.path.dirname(checkpoint_path)\n",
    "\n",
    "# Create a callback that saves the model's weights\n",
    "cp_callback =tf.keras.callbacks.ModelCheckpoint(\n",
    "    filepath=checkpoint_path,\n",
    "    save_weights_only=True,\n",
    "    verbose=1)\n",
    "\n",
    "history=model.fit(\n",
    "    train_ds,\n",
    "    validation_data=val_ds,\n",
    "    epochs=2,\n",
    "    callbacks=[cp_callback])  # Pass callback to training\n",
    "\n",
    "\n",
    "print(f'{C.IBlue}')\n",
    "print(history.history)\n",
    "\n",
    "# This may generate warnings related to saving the state of the optimizer.\n",
    "# These warnings (and similar warnings throughout this notebook)\n",
    "# are in place to discourage outdated usage, and can be ignored."
   ]
  }
 ],
 "metadata": {
  "kernelspec": {
   "display_name": "Python 3 (ipykernel)",
   "language": "python",
   "name": "python3"
  },
  "language_info": {
   "codemirror_mode": {
    "name": "ipython",
    "version": 3
   },
   "file_extension": ".py",
   "mimetype": "text/x-python",
   "name": "python",
   "nbconvert_exporter": "python",
   "pygments_lexer": "ipython3",
   "version": "3.7.10"
  }
 },
 "nbformat": 4,
 "nbformat_minor": 5
}

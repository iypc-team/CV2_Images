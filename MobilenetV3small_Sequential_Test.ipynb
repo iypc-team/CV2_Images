{
 "cells": [
  {
   "cell_type": "code",
   "execution_count": null,
   "id": "675ec0f4",
   "metadata": {},
   "outputs": [],
   "source": [
    "# 11/26/2021-1\n",
    "from __future__ import absolute_import, division\n",
    "import tensorflow as tf\n",
    "from tensorflow.keras.models import Sequential\n",
    "from tensorflow.keras.layers import Activation, Dense, Dropout\n",
    "from tensorflow.keras.optimizers import Adam\n",
    "from tensorflow.keras.applications import MobileNetV2\n",
    "from tensorflow.keras.applications import MobileNetV3Small\n",
    "from CV2_Utils import *\n",
    "import cv2, os\n",
    "from os.path import abspath, exists, join\n",
    "import time\n",
    "\n",
    "contentPath = os.getcwd()\n",
    "learningRate = 0.001\n",
    "batchSize=8"
   ]
  },
  {
   "cell_type": "code",
   "execution_count": null,
   "id": "99109bef",
   "metadata": {},
   "outputs": [],
   "source": [
    "import glob\n",
    "globList=[]\n",
    "globList=glob.glob('*.h5')\n",
    "print(len(globList), 'saved epochs')\n",
    "for item in sorted(globList):\n",
    "    fullPath=abspath(item)\n",
    "    if exists(fullPath):\n",
    "        print(fullPath)\n",
    "        # os.remove(fullPath)"
   ]
  },
  {
   "cell_type": "code",
   "execution_count": null,
   "id": "f2a1f8bf",
   "metadata": {},
   "outputs": [],
   "source": [
    "# 5. Use your model\n",
    "modelPath = join('/home/jovyan/MobilenetV3small_Sequential_10.h5')\n",
    "print(modelPath)\n",
    "model = None\n",
    "model = tf.keras.models.load_model(\n",
    "    modelPath,\n",
    "    compile = True\n",
    ")\n",
    "print(f'model.built: {model.built}')"
   ]
  },
  {
   "cell_type": "code",
   "execution_count": null,
   "id": "0ff42c42",
   "metadata": {},
   "outputs": [],
   "source": [
    "imagePath=join(contentPath, 'test_0071.jpg')\n",
    "img=cv2.imread(imagePath, cv2.IMREAD_COLOR)\n",
    "img=cv2.resize(src=img, dsize=(224, 224))\n",
    "cvu.plotShowSingleImage(img, title1=basename(imagePath))\n",
    "print(img.shape)"
   ]
  },
  {
   "cell_type": "code",
   "execution_count": null,
   "id": "3c2f98ba",
   "metadata": {},
   "outputs": [],
   "source": [
    "import numpy as np\n",
    "from keras.preprocessing import image\n",
    "\n",
    "img_width, img_height = 224, 224\n",
    "img = image.load_img(imagePath, target_size = (img_width, img_height))\n",
    "img = image.img_to_array(img)\n",
    "img = np.expand_dims(img, axis = 0)\n",
    "model.predict(img, verbose=1,\n",
    "              max_queue_size=2,use_multiprocessing=True)"
   ]
  },
  {
   "cell_type": "code",
   "execution_count": null,
   "id": "773fce7a",
   "metadata": {},
   "outputs": [],
   "source": []
  }
 ],
 "metadata": {
  "kernelspec": {
   "display_name": "Python 3 (ipykernel)",
   "language": "python",
   "name": "python3"
  },
  "language_info": {
   "codemirror_mode": {
    "name": "ipython",
    "version": 3
   },
   "file_extension": ".py",
   "mimetype": "text/x-python",
   "name": "python",
   "nbconvert_exporter": "python",
   "pygments_lexer": "ipython3",
   "version": "3.7.12"
  }
 },
 "nbformat": 4,
 "nbformat_minor": 5
}

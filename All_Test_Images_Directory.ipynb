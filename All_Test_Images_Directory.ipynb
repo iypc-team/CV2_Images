{
 "cells": [
  {
   "cell_type": "code",
   "execution_count": null,
   "id": "311983e2",
   "metadata": {},
   "outputs": [],
   "source": [
    "# 11/24/2021-1\n",
    "from __future__ import absolute_import, division\n",
    "from BashColors import C\n",
    "from CV2_Utils import *\n",
    "import cv2, glob, os, shutil\n",
    "from os.path import *\n",
    "from time import sleep\n",
    "\n",
    "contentPath=os.getcwd()\n",
    "testPath=join(contentPath, 'TestImages')\n",
    "\n",
    "if exists(testPath):\n",
    "    shutil.rmtree(testPath)\n",
    "    sleep(0.2)\n",
    "if not exists(testPath):\n",
    "    os.makedirs(testPath)\n",
    "    print(testPath)\n",
    "    print(f'creating: {C.BIPurple}{testPath}')\n",
    "else: print(f'exists: {C.BIGreen}{testPath}')\n",
    "testCount=0"
   ]
  },
  {
   "cell_type": "code",
   "execution_count": null,
   "id": "67c39704",
   "metadata": {},
   "outputs": [],
   "source": [
    "def renameImage(path, count):\n",
    "    # testPath=join(contentPath, 'TestImages')\n",
    "    fullPath=path\n",
    "    name=basename(fullPath)\n",
    "    # print(name)\n",
    "    newName='test_00' + str(count) + '.png'\n",
    "    renamePath=join(testPath, newName)\n",
    "    \n",
    "    print(renamePath)\n",
    "    # os.rename(fullPath, renamePath)\n",
    "    return renamePath"
   ]
  },
  {
   "cell_type": "code",
   "execution_count": null,
   "id": "4b1de298",
   "metadata": {},
   "outputs": [],
   "source": [
    "os.chdir(contentPath)\n",
    "globList=[]\n",
    "globList=glob.glob('**')\n",
    "for item in sorted(globList):\n",
    "    fullPath=abspath(item)\n",
    "    if item.endswith('.jpg'):\n",
    "        print(fullPath)\n",
    "        img=cvu.loadCV2Image(fullPath)\n",
    "        img=cvu.resizeImage(img)\n",
    "        newImg=np.copy(img)\n",
    "        # savePath=join(contentPath, 'test_0071.png')\n",
    "        testCount+=1\n",
    "        savePath=renameImage(fullPath, testCount)\n",
    "        if not exists(savePath):\n",
    "            cv2.imwrite(savePath, newImg)\n",
    "        print(img.shape)\n",
    "        cvu.plotShowSingleImage(newImg, title1=basename(savePath))\n",
    "        sleep(0.1)\n",
    "        img=None\n",
    "        newImg=None"
   ]
  },
  {
   "cell_type": "code",
   "execution_count": null,
   "id": "06ac193e",
   "metadata": {},
   "outputs": [],
   "source": [
    "globList=[]\n",
    "globList=glob.glob('**')\n",
    "for item in sorted(globList):\n",
    "    fullPath=abspath(item)\n",
    "    \n",
    "    if isdir(fullPath) and fullPath.__contains__('Validation'):\n",
    "        print(f'{C.BIBlue}{fullPath}{C.ColorOff}')\n",
    "        \n",
    "    elif isfile(fullPath) and fullPath.endswith('.png'):\n",
    "        # print(fullPath)\n",
    "        img = cv2.imread(fullPath, cv2.IMREAD_COLOR)\n",
    "        newImg=np.copy(img)\n",
    "        testCount+=1\n",
    "        savePath=renameImage(fullPath, testCount)\n",
    "        if not exists(savePath):\n",
    "            cv2.imwrite(savePath, newImg)\n",
    "        cvu.plotShowSingleImage(newImg, title1=basename(savePath))\n",
    "        print(img.shape)\n",
    "        sleep(0.1)\n",
    "        img=None"
   ]
  }
 ],
 "metadata": {
  "kernelspec": {
   "display_name": "Python 3 (ipykernel)",
   "language": "python",
   "name": "python3"
  },
  "language_info": {
   "codemirror_mode": {
    "name": "ipython",
    "version": 3
   },
   "file_extension": ".py",
   "mimetype": "text/x-python",
   "name": "python",
   "nbconvert_exporter": "python",
   "pygments_lexer": "ipython3",
   "version": "3.7.12"
  }
 },
 "nbformat": 4,
 "nbformat_minor": 5
}

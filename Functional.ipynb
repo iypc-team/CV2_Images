{
 "cells": [
  {
   "cell_type": "code",
   "execution_count": null,
   "id": "0c6c52d4",
   "metadata": {},
   "outputs": [],
   "source": [
    "from __future__ import absolute_import, division\n",
    "from IPython.display import clear_output, Image\n",
    "import os\n",
    "from os.path import *\n",
    "os.environ['TFF_CPP_MIN_LOG_LEVEL'] = '0'\n",
    "import numpy as np\n",
    "import tensorflow as tf\n",
    "from tensorflow import keras\n",
    "from tensorflow.keras import layers\n",
    "from tensorflow.keras.losses import SparseCategoricalCrossentropy\n",
    "contentPath=os.getcwd()"
   ]
  },
  {
   "cell_type": "code",
   "execution_count": null,
   "id": "158e9803",
   "metadata": {},
   "outputs": [],
   "source": [
    "inputShape=(224, 224, 4)\n",
    "inputs = keras.Input(shape=inputShape)\n",
    "# inputs.shape\n",
    "dense = layers.Dense(64, activation=\"relu\")\n",
    "x = dense(inputs)\n",
    "x = layers.Dense(64, activation=\"relu\")(x)\n",
    "x = layers.Dense(32, activation=\"relu\")(x)\n",
    "x = layers.Dense(16, activation=\"relu\")(x)\n",
    "outputs = layers.Dense(2)(x)"
   ]
  },
  {
   "cell_type": "code",
   "execution_count": null,
   "id": "51dd28f3",
   "metadata": {},
   "outputs": [],
   "source": [
    "model = keras.Model(inputs=inputs,\n",
    "                    outputs=outputs,\n",
    "                    name=\"defcon4_model\")\n",
    "model.summary()"
   ]
  },
  {
   "cell_type": "code",
   "execution_count": null,
   "id": "92266e45",
   "metadata": {},
   "outputs": [],
   "source": [
    "cfg=model.get_config()\n",
    "cfg\n",
    "clear_output()"
   ]
  },
  {
   "cell_type": "code",
   "execution_count": null,
   "id": "c31be90c",
   "metadata": {},
   "outputs": [],
   "source": [
    "model.compile(\n",
    "    loss=SparseCategoricalCrossentropy(from_logits=True),\n",
    "    optimizer=keras.optimizers.RMSprop(),\n",
    "    metrics=[\"accuracy\"],\n",
    ")"
   ]
  },
  {
   "cell_type": "code",
   "execution_count": null,
   "id": "8fe9d303",
   "metadata": {},
   "outputs": [],
   "source": [
    "modelSavePath=join(contentPath, model.name)\n",
    "print(modelSavePath)\n",
    "model.save(modelSavePath)\n",
    "del model\n",
    "# Recreate the exact same model purely from the file:\n",
    "model = keras.models.load_model(modelSavePath)"
   ]
  },
  {
   "cell_type": "code",
   "execution_count": null,
   "id": "6d6597fb",
   "metadata": {},
   "outputs": [],
   "source": [
    "gen=None\n",
    "model.fit(x=None, y=None,\n",
    "          batch_size=None, epochs=1,\n",
    "          verbose='auto', callbacks=None,\n",
    "          validation_split=0.0, validation_data=None, shuffle=True,\n",
    "          class_weight=None, sample_weight=None,\n",
    "          initial_epoch=0, steps_per_epoch=None,\n",
    "          validation_steps=None, validation_batch_size=None,\n",
    "          validation_freq=1, max_queue_size=10, workers=1,\n",
    "          use_multiprocessing=False)"
   ]
  },
  {
   "cell_type": "code",
   "execution_count": null,
   "id": "6b187ea0",
   "metadata": {},
   "outputs": [],
   "source": [
    "vgg19 = tf.keras.applications.VGG19()\n",
    "# And these are the intermediate activations of the model, obtained by querying the graph data structure:\n",
    "\n",
    "features_list = [layer.output for layer in vgg19.layers]\n",
    "# Use these features to create a new feature-extraction model that returns the values of the intermediate layer activations:\n",
    "\n",
    "feat_extraction_model = keras.Model(inputs=vgg19.input, outputs=features_list)\n",
    "\n",
    "img = np.random.random((1, 224, 224, 3)).astype(\"float32\")\n",
    "extracted_features = feat_extraction_model(img)"
   ]
  }
 ],
 "metadata": {
  "kernelspec": {
   "display_name": "Python 3 (ipykernel)",
   "language": "python",
   "name": "python3"
  },
  "language_info": {
   "codemirror_mode": {
    "name": "ipython",
    "version": 3
   },
   "file_extension": ".py",
   "mimetype": "text/x-python",
   "name": "python",
   "nbconvert_exporter": "python",
   "pygments_lexer": "ipython3",
   "version": "3.7.10"
  }
 },
 "nbformat": 4,
 "nbformat_minor": 5
}

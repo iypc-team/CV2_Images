{
  "nbformat": 4,
  "nbformat_minor": 0,
  "metadata": {
    "kernelspec": {
      "display_name": "Python 3",
      "language": "python",
      "name": "python3"
    },
    "language_info": {
      "codemirror_mode": {
        "name": "ipython",
        "version": 3
      },
      "file_extension": ".py",
      "mimetype": "text/x-python",
      "name": "python",
      "nbconvert_exporter": "python",
      "pygments_lexer": "ipython3",
      "version": "3.7.6"
    },
    "colab": {
      "name": "Jon_Krohn.ipynb",
      "provenance": [],
      "include_colab_link": true
    }
  },
  "cells": [
    {
      "cell_type": "markdown",
      "metadata": {
        "id": "view-in-github",
        "colab_type": "text"
      },
      "source": [
        "<a href=\"https://colab.research.google.com/github/iypc-team/NewNotebook/blob/master/Jon_Krohn.ipynb\" target=\"_parent\"><img src=\"https://colab.research.google.com/assets/colab-badge.svg\" alt=\"Open In Colab\"/></a>"
      ]
    },
    {
      "cell_type": "code",
      "metadata": {
        "id": "DJRNPTMLVrwK",
        "colab_type": "code",
        "colab": {}
      },
      "source": [
        "from __future__ import absolute_import, division, print_function\n",
        "from IPython.display import clear_output\n",
        "from ColorUtil import C\n",
        "print(f'{C.GREEN}')\n",
        "%pip install tensorflow\n",
        "%pip install gitpython\n",
        "clear_output()"
      ],
      "execution_count": null,
      "outputs": []
    },
    {
      "cell_type": "code",
      "metadata": {
        "id": "oWAsN2feVrxC",
        "colab_type": "code",
        "colab": {}
      },
      "source": [
        "import git, glob, os, pathlib, sys\n",
        "import tensorflow as tf\n",
        "from os.path import *\n",
        "from pathlib import Path\n",
        "from git import Remote, Repo\n",
        "from ColorUtil import C\n",
        "\n",
        "repoList = ['https://github.com/jonkrohn/ML-foundations', \n",
        "           'https://github.com/jonkrohn/DLTFpT', \n",
        "           'https://github.com/jonkrohn/tf2', \n",
        "           'https://github.com/jonkrohn/pytorch', \n",
        "           'https://github.com/jonkrohn/TensorFlow-LiveLessons', \n",
        "           'https://github.com/jonkrohn/SLM-Lab', \n",
        "           'https://github.com/jonkrohn/docker-stacks', \n",
        "           'https://github.com/jonkrohn/keras-attention',\n",
        "           'https://github.com/jonkrohn/study-group']\n",
        "\n",
        "print(f'{C.GREEN}OK')"
      ],
      "execution_count": null,
      "outputs": []
    },
    {
      "cell_type": "code",
      "metadata": {
        "id": "Xtt9wpHgVrx5",
        "colab_type": "code",
        "colab": {}
      },
      "source": [
        "count = 0\n",
        "for repo in repoList:\n",
        "    count += 1\n",
        "    repoPath = join(repo)\n",
        "    localPath = join(Path.home(), basename(repo))\n",
        "    if not exists(localPath):\n",
        "        print(f'{C.RED}{localPath}{C.WHITE} Does not exist')\n",
        "        # _ = \n",
        "        Repo.clone_from(repoPath, localPath)\n",
        "    elif exists(localPath):\n",
        "        print(f'{C.GREEN}{localPath}{C.WHITE} exists')"
      ],
      "execution_count": null,
      "outputs": []
    },
    {
      "cell_type": "code",
      "metadata": {
        "id": "V3HdqL-8Vrya",
        "colab_type": "code",
        "colab": {}
      },
      "source": [
        "allFiles = glob.glob('**', recursive=True)\n",
        "allFilesDict = {}\n",
        "\n",
        "fileCount = 0\n",
        "print(f'{C.BLUE}{Path.cwd()}')\n",
        "for fil in sorted(allFiles):\n",
        "    realPath = realpath(fil)\n",
        "    fullPath = Path(realpath(fil))\n",
        "    if isdir(fullPath) and not realPath.__contains__('__pycache__'):\n",
        "        print(f'\\n{C.BLUE}{fullPath}')\n",
        "    elif isfile(fullPath):\n",
        "        fileCount += 1\n",
        "        allFilesDict[fileCount] = fullPath\n",
        "        print(f'{C.WHITE}{fileCount}. {fullPath}')"
      ],
      "execution_count": null,
      "outputs": []
    },
    {
      "cell_type": "code",
      "metadata": {
        "id": "jbHU_2cRVry2",
        "colab_type": "code",
        "colab": {}
      },
      "source": [
        "pth = allFilesDict[1]\n",
        "print(f'# %%writefile {pth.name}\\n')\n",
        "try:\n",
        "    with open(pth, 'r') as openFile:\n",
        "        print(openFile.read())\n",
        "except:\n",
        "    try:\n",
        "        with open(pth, 'rb') as openFile:\n",
        "            readLines = openFile.readlines()\n",
        "            for line in readLines:\n",
        "                print(f'{C.LITE}')\n",
        "                print(line)\n",
        "    except Exception as exc:\n",
        "        print(exc)\n",
        "        print(f'{C.RED}BULLSHIT')"
      ],
      "execution_count": null,
      "outputs": []
    }
  ]
}
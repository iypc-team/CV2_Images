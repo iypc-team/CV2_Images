{
 "cells": [
  {
   "cell_type": "code",
   "execution_count": null,
   "id": "26a5c93f",
   "metadata": {},
   "outputs": [],
   "source": [
    "from __future__ import absolute_import, division\n",
    "from BashColors import C\n",
    "import tensorflow\n",
    "from tensorflow import keras\n",
    "import numpy as np\n",
    "import cv2\n",
    "from CV2_Utils import *\n"
   ]
  },
  {
   "cell_type": "code",
   "execution_count": null,
   "id": "95858669",
   "metadata": {},
   "outputs": [],
   "source": [
    "# Importing MobileNetV2\n",
    "from keras.applications.mobilenet_v2 import MobileNetV2\n",
    "model = MobileNetV2(weights='imagenet')\n",
    "print(f'{C.BIGreen}{model.name}')"
   ]
  },
  {
   "cell_type": "code",
   "execution_count": null,
   "id": "8a2107e5",
   "metadata": {},
   "outputs": [],
   "source": [
    "# data = np.empty((40, 224, 224, 3))\n",
    "data = np.empty((216, 224, 224, 3))"
   ]
  },
  {
   "cell_type": "code",
   "execution_count": null,
   "id": "35c7024a",
   "metadata": {},
   "outputs": [],
   "source": [
    "try: import imageio\n",
    "except Exception as err: \n",
    "    %pip install imageio\n",
    "    import imageio\n",
    "from imageio import imread\n",
    "\n",
    "try: import skimage\n",
    "except Exception as err:\n",
    "    %pip install scikit-image \n",
    "    import skimage\n",
    "    \n",
    "# from skimage.transform import resize\n",
    "from keras.applications.mobilenet_v2 import preprocess_input\n",
    "\n",
    "for i in range(0, 20):\n",
    "    im = imread('data/cats/f{:02d}.jpg'.format(i + 1))\n",
    "    im = preprocess_input(im)\n",
    "    im = resize(im, output_shape=(224, 224))\n",
    "    data[i] = im\n",
    "    \n",
    "# Next we read in the male cats, and put them in the last 20 places of the data array:\n",
    "for i in range(0, 20):\n",
    "    im = imread('data/cats/m{:02d}.jpg'.format(i + 1))\n",
    "    im = preprocess_input(im)\n",
    "    im = resize(im, output_shape=(224, 224))\n",
    "    data[i + 20] = im\n",
    "    \n",
    "# The training labels correspond to an array of length 40, where the first 20 values are 0 and the last 20 values are 1. In other words, we code the female cats as category 0 and the male cats as category 1.\n",
    "labels = np.empty(40, dtype=int)\n",
    "labels[:20] = 0\n",
    "labels[20:] = 1"
   ]
  },
  {
   "cell_type": "code",
   "execution_count": null,
   "id": "0a4a8a51",
   "metadata": {},
   "outputs": [],
   "source": []
  },
  {
   "cell_type": "code",
   "execution_count": null,
   "id": "51d6910b",
   "metadata": {},
   "outputs": [],
   "source": []
  },
  {
   "cell_type": "code",
   "execution_count": null,
   "id": "7cbbcd9e",
   "metadata": {},
   "outputs": [],
   "source": []
  },
  {
   "cell_type": "code",
   "execution_count": null,
   "id": "329ebd07",
   "metadata": {},
   "outputs": [],
   "source": []
  }
 ],
 "metadata": {
  "kernelspec": {
   "display_name": "Python 3 (ipykernel)",
   "language": "python",
   "name": "python3"
  },
  "language_info": {
   "codemirror_mode": {
    "name": "ipython",
    "version": 3
   },
   "file_extension": ".py",
   "mimetype": "text/x-python",
   "name": "python",
   "nbconvert_exporter": "python",
   "pygments_lexer": "ipython3",
   "version": "3.7.10"
  }
 },
 "nbformat": 4,
 "nbformat_minor": 5
}

{
 "cells": [
  {
   "cell_type": "code",
   "execution_count": null,
   "id": "7c33bdd7",
   "metadata": {},
   "outputs": [],
   "source": [
    "# 11/11/2021-1\n",
    "# https://m.youtube.com/watch?v=Zrt76AIbeh4&noapp=1&noapp=1\n",
    "from __future__ import absolute_import\n",
    "from IPython.display import clear_output, Image\n",
    "import os\n",
    "from os.path import *\n",
    "from CV2_Utils import *\n",
    "from BashColors import C\n",
    "import numpy as np\n",
    "import tensorflow\n",
    "from tensorflow import keras\n",
    "# import keras\n",
    "from keras import backend as K\n",
    "from keras.layers.core import Dense, Activation\n",
    "from tensorflow.keras.optimizers import Adam\n",
    "from keras.metrics import categorical_crossentropy\n",
    "from keras.preprocessing.image import ImageDataGenerator\n",
    "from keras.preprocessing import image\n",
    "from keras.models import Model\n",
    "from keras.applications import imagenet_utils\n",
    "# from sklearn.metrics import confusion_matrix\n",
    "import itertools\n",
    "import matplotlib.pyplot as plt\n",
    "%matplotlib inline\n",
    "\n",
    "contentPath=os.getcwd()\n",
    "cv2Path=join(contentPath, 'CV2Images')\n",
    "imgPath=join(contentPath, 'friendly_validation_12.png')\n"
   ]
  },
  {
   "cell_type": "code",
   "execution_count": null,
   "id": "645fcd8d",
   "metadata": {},
   "outputs": [],
   "source": [
    "mobilenet=tensorflow.keras.applications.MobileNet()\n",
    "print(f'{mobilenet.name}')\n",
    "# mobilenet.summary()"
   ]
  },
  {
   "cell_type": "code",
   "execution_count": null,
   "id": "e171e2dd",
   "metadata": {},
   "outputs": [],
   "source": [
    "from tensorflow.keras import Sequential\n",
    "modelName = 'sequential_full_' + mobilenet.name + '.h5'\n",
    "fullMobilenetSequential=Sequential(name=modelName)\n",
    "\n",
    "layerCount=0\n",
    "for layer in mobilenet.layers[:]: # all layers\n",
    "    fullMobilenetSequential.add(layer)\n",
    "    layerCount+=1\n",
    "\n",
    "print(f'{layerCount} layers')\n",
    "# fullMobilenetSequential.summary()\n",
    "savePath=join(contentPath, modelName)\n",
    "print(savePath)\n",
    "fullMobilenetSequential.compile(optimizer=Adam(learning_rate=0.0001),\n",
    "                               loss='categorical_crossentropy',\n",
    "                               metrics=['accuracy'])\n",
    "# mobilenetSequential.compile(loss='categorical_crossentropy', optimizer='adam')\n",
    "fullMobilenetSequential.save(filepath=savePath)"
   ]
  },
  {
   "cell_type": "code",
   "execution_count": null,
   "id": "e64beb66",
   "metadata": {},
   "outputs": [],
   "source": [
    "mobile=keras.models.load_model(savePath)\n",
    "print(f'mobile.name: {C.BIGreen}{mobile.name}{C.ColorOff}')\n",
    "mobileWeights = mobile.weights\n",
    "sleep(1)\n",
    "# print(mobileWeights)"
   ]
  },
  {
   "cell_type": "code",
   "execution_count": null,
   "id": "3de3c8ba",
   "metadata": {},
   "outputs": [],
   "source": [
    "imgArray=np.copy('friendly_validation_12.png')\n",
    "imgArray"
   ]
  },
  {
   "cell_type": "code",
   "execution_count": null,
   "id": "33591b1f",
   "metadata": {},
   "outputs": [],
   "source": [
    "result=mobile.predict(imgArray)"
   ]
  },
  {
   "cell_type": "code",
   "execution_count": null,
   "id": "acec72e3",
   "metadata": {},
   "outputs": [],
   "source": [
    "\n",
    "help(mobile.predict)"
   ]
  }
 ],
 "metadata": {
  "kernelspec": {
   "display_name": "Python 3 (ipykernel)",
   "language": "python",
   "name": "python3"
  },
  "language_info": {
   "codemirror_mode": {
    "name": "ipython",
    "version": 3
   },
   "file_extension": ".py",
   "mimetype": "text/x-python",
   "name": "python",
   "nbconvert_exporter": "python",
   "pygments_lexer": "ipython3",
   "version": "3.7.10"
  }
 },
 "nbformat": 4,
 "nbformat_minor": 5
}

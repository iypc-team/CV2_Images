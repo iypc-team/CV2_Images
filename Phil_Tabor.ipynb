{
  "nbformat": 4,
  "nbformat_minor": 0,
  "metadata": {
    "kernelspec": {
      "display_name": "Python 3",
      "language": "python",
      "name": "python3"
    },
    "language_info": {
      "codemirror_mode": {
        "name": "ipython",
        "version": 3
      },
      "file_extension": ".py",
      "mimetype": "text/x-python",
      "name": "python",
      "nbconvert_exporter": "python",
      "pygments_lexer": "ipython3",
      "version": "3.7.6"
    },
    "colab": {
      "name": "Phil_Tabor.ipynb",
      "provenance": [],
      "include_colab_link": true
    }
  },
  "cells": [
    {
      "cell_type": "markdown",
      "metadata": {
        "id": "view-in-github",
        "colab_type": "text"
      },
      "source": [
        "<a href=\"https://colab.research.google.com/github/iypc-team/NewNotebook/blob/master/Phil_Tabor.ipynb\" target=\"_parent\"><img src=\"https://colab.research.google.com/assets/colab-badge.svg\" alt=\"Open In Colab\"/></a>"
      ]
    },
    {
      "cell_type": "code",
      "metadata": {
        "id": "Z6Y2whiQUhvO",
        "colab_type": "code",
        "colab": {}
      },
      "source": [
        "from __future__ import absolute_import, division, print_function\n",
        "from IPython.display import clear_output\n",
        "from ColorUtil import C\n",
        "print(f'{C.GREEN}')\n",
        "%pip install tensorflow\n",
        "%pip install gitpython\n",
        "clear_output()"
      ],
      "execution_count": null,
      "outputs": []
    },
    {
      "cell_type": "code",
      "metadata": {
        "id": "_bV5U8GjUhv2",
        "colab_type": "code",
        "colab": {}
      },
      "source": [
        "import git, glob, os, pathlib, sys\n",
        "import tensorflow as tf\n",
        "from os.path import *\n",
        "from pathlib import Path\n",
        "from git import Remote, Repo\n",
        "from ColorUtil import C\n",
        "\n",
        "gathererList = 'https://github.com/philtabor/Gatherer'\n",
        "repoList = ['https://github.com/philtabor/Youtube-Code-Repository',\n",
        "            'https://github.com/philtabor/Actor-Critic-Methods-Paper-To-Code',\n",
        "            'https://github.com/philtabor/Deep-Q-Learning-Paper-To-Code',\n",
        "            'https://github.com/philtabor/Simple-Neural-Network',\n",
        "            'https://github.com/philtabor/Reinforcement-Learning-In-Motion',\n",
        "            'https://github.com/philtabor/PyBullet-Hand-Example',\n",
        "            'https://github.com/philtabor/sensenet',\n",
        "            'https://github.com/philtabor/OpenAI-Cartpole',\n",
        "           'https://github.com/philtabor/Open-Text-Summarizer']\n",
        "\n",
        "print(f'{len(repoList)} repos. Does not include Gather repo')\n",
        "print(f'{C.GREEN}OK')"
      ],
      "execution_count": null,
      "outputs": []
    },
    {
      "cell_type": "code",
      "metadata": {
        "id": "X36Hh2AxUhwv",
        "colab_type": "code",
        "colab": {}
      },
      "source": [
        "count = 0\n",
        "for repo in repoList:\n",
        "    count += 1\n",
        "    repoPath = join(repo)\n",
        "    localPath = join(Path.home(), basename(repo))\n",
        "    if not exists(localPath):\n",
        "        print(f'{count}. {C.RED}{localPath}{C.WHITE} Does not exist')\n",
        "        Repo.clone_from(repoPath, localPath)\n",
        "    elif exists(localPath):\n",
        "        print(f'{count}. {C.GREEN}{localPath}{C.WHITE} exists')"
      ],
      "execution_count": null,
      "outputs": []
    },
    {
      "cell_type": "code",
      "metadata": {
        "id": "Orj3NUDuUhyO",
        "colab_type": "code",
        "colab": {}
      },
      "source": [
        "allFiles = glob.glob('**', recursive=True)\n",
        "allFilesDict = {}\n",
        "\n",
        "fileCount = 0\n",
        "print(f'{C.BLUE}{Path.cwd()}')\n",
        "for fil in sorted(allFiles):\n",
        "    realPath = realpath(fil)\n",
        "    fullPath = Path(realpath(fil))\n",
        "    if isdir(fullPath) and not realPath.__contains__('__pycache__'):\n",
        "        print(f'\\n{C.BLUE}{fullPath}')\n",
        "    elif isfile(fullPath):\n",
        "        fileCount += 1\n",
        "        allFilesDict[fileCount] = fullPath\n",
        "        print(f'{C.WHITE}{fileCount}. {fullPath}')"
      ],
      "execution_count": null,
      "outputs": []
    },
    {
      "cell_type": "code",
      "metadata": {
        "id": "i4HYvktaUhyi",
        "colab_type": "code",
        "colab": {}
      },
      "source": [
        "pth = allFilesDict[1]\n",
        "print(f'# %%writefile {pth.name}\\n')\n",
        "try:\n",
        "    with open(pth, 'r') as openFile:\n",
        "        print(openFile.read())\n",
        "except:\n",
        "    try:\n",
        "        with open(pth, 'rb') as openFile:\n",
        "            readLines = openFile.readlines()\n",
        "            for line in readLines:\n",
        "                print(f'{C.LITE}')\n",
        "                print(line)\n",
        "    except Exception as exc:\n",
        "        print(exc)\n",
        "        print(f'{C.RED}BULLSHIT')"
      ],
      "execution_count": null,
      "outputs": []
    }
  ]
}
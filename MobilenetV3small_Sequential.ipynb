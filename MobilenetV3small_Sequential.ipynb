{
 "cells": [
  {
   "cell_type": "code",
   "execution_count": null,
   "id": "675ec0f4",
   "metadata": {},
   "outputs": [],
   "source": [
    "# 11/23/2021-1\n",
    "# https://scientific-python.readthedocs.io/en/latest/notebooks_rst/6_Machine_Learning/04_Exercices/02_Practical_Work/02_CNN_1_Beauty.html\n",
    "from __future__ import absolute_import, division\n",
    "from tensorflow.keras.models import Sequential\n",
    "from tensorflow.keras.layers import Activation, Dense, Dropout\n",
    "from tensorflow.keras.optimizers import Adam\n",
    "from tensorflow.keras.applications import MobileNetV2\n",
    "from tensorflow.keras.applications import MobileNetV3Small\n",
    "import os\n",
    "from os.path import abspath, exists, join\n",
    "import time\n",
    "\n",
    "contentPath = os.getcwd()\n",
    "learningRate = 0.001\n",
    "batchSize=8"
   ]
  },
  {
   "cell_type": "code",
   "execution_count": null,
   "id": "0730bf0e",
   "metadata": {},
   "outputs": [],
   "source": [
    "import tensorflow as tf\n",
    "baseModel = tf.keras.applications.MobileNetV3Small(\n",
    "    input_shape=(224, 224, 3), alpha=1.0,\n",
    "    minimalistic=False, include_top=False,\n",
    "    weights='imagenet', input_tensor=None,\n",
    "    classes=1000, pooling=None,\n",
    "    dropout_rate=0.2, classifier_activation='softmax',\n",
    "    include_preprocessing=True)\n",
    "baseModel.name"
   ]
  },
  {
   "cell_type": "code",
   "execution_count": null,
   "id": "662dcead",
   "metadata": {},
   "outputs": [],
   "source": [
    "def create_model():\n",
    "    # Create a new neural networks model.\n",
    "    model = Sequential(name='MobilenetV3small_Sequential')\n",
    "    \n",
    "    # Add a pre-trained model, without the last layer\n",
    "    model.add(MobileNetV3Small(include_top=False,\n",
    "                               input_shape=(224, 224, 3),\n",
    "                               pooling='avg',\n",
    "                               weights='imagenet'))\n",
    "\n",
    "    # 1st layer as Dense with ReLu\n",
    "    model.add(Dense(2, activation='relu'))\n",
    "    # Add a stochastic regularization to avoid overfitting\n",
    "    model.add(Dropout(rate=0.1))\n",
    "    # Last layer as Dense for regression\n",
    "    model.add(Dense(1, activation='linear'))\n",
    "    # Do not train the first layer model, as it is already pre-trained\n",
    "    model.layers[0].trainable = False\n",
    "\n",
    "    # Compile the model with an optimizer\n",
    "    model.compile(\n",
    "        loss='mean_squared_error',  # 'mean_absolute_error', 'kullback_leibler_divergence'\n",
    "        optimizer=Adam(learning_rate=learningRate)\n",
    "    )\n",
    "    return model\n",
    "\n",
    "model = create_model()\n",
    "model.summary()"
   ]
  },
  {
   "cell_type": "code",
   "execution_count": null,
   "id": "39b3e033",
   "metadata": {},
   "outputs": [],
   "source": [
    "cv2Path=join(contentPath, 'CV2Images')\n",
    "from tensorflow.keras.utils import image_dataset_from_directory\n",
    "train_dataset = image_dataset_from_directory(\n",
    "    cv2Path,\n",
    "    color_mode='rgb',\n",
    "    validation_split=0.2,\n",
    "    subset=\"training\",\n",
    "    seed=456,\n",
    "    image_size=(224, 224),\n",
    "    batch_size=batchSize)\n",
    "print()\n",
    "\n",
    "validation_dataset = image_dataset_from_directory(\n",
    "    cv2Path,\n",
    "    color_mode='rgb',\n",
    "    validation_split=0.2,\n",
    "    subset=\"validation\",\n",
    "    seed=456,\n",
    "    image_size=(224, 224),\n",
    "    batch_size=batchSize)\n",
    "# clear_output()"
   ]
  },
  {
   "cell_type": "code",
   "execution_count": null,
   "id": "bb756d6c",
   "metadata": {},
   "outputs": [],
   "source": [
    "import multiprocessing\n",
    "from tensorflow.keras.callbacks import EarlyStopping, ModelCheckpoint, ReduceLROnPlateau\n",
    "\n",
    "n_epochs = 20\n",
    "initial_epoch = 0\n",
    "\n",
    "callbacks = [EarlyStopping(monitor='val_loss',\n",
    "                           min_delta=1e-3,\n",
    "                           patience=10,\n",
    "                           verbose=1,\n",
    "                          ),\n",
    "             ReduceLROnPlateau(monitor='val_loss',\n",
    "                               factor=0.2,\n",
    "                               patience=1,\n",
    "                               cooldown=1,\n",
    "                               min_lr=0.00001\n",
    "                              ),\n",
    "             ModelCheckpoint(\n",
    "                 filepath='MobilenetV3small_Sequential_{epoch:02d}.h5',\n",
    "                 monitor='val_loss',\n",
    "                 save_best_only=True,\n",
    "                 verbose=1)\n",
    "            ]\n",
    "\n",
    "t_start = time.time()\n",
    "history = model.fit(\n",
    "    train_dataset,\n",
    "    epochs=n_epochs,\n",
    "    callbacks=callbacks,\n",
    "    initial_epoch=initial_epoch,\n",
    "    # steps_per_epoch=training_steps_per_epoch,\n",
    "    validation_data=validation_dataset,\n",
    "    # validation_steps=validation_steps,\n",
    "    workers=multiprocessing.cpu_count(),\n",
    ")\n",
    "\n",
    "print('Training duration: %.2fs' % float(time.time()-t_start))"
   ]
  },
  {
   "cell_type": "code",
   "execution_count": null,
   "id": "94f12d8d",
   "metadata": {},
   "outputs": [],
   "source": [
    "model.name"
   ]
  },
  {
   "cell_type": "code",
   "execution_count": null,
   "id": "99109bef",
   "metadata": {},
   "outputs": [],
   "source": [
    "import glob\n",
    "globList=[]\n",
    "globList=glob.glob('*.h5')\n",
    "print(len(globList), 'saved epochs')\n",
    "for item in sorted(globList):\n",
    "    fullPath=abspath(item)\n",
    "    if exists(fullPath):\n",
    "        print(fullPath)\n",
    "        # os.remove(fullPath)"
   ]
  },
  {
   "cell_type": "code",
   "execution_count": null,
   "id": "30598370",
   "metadata": {},
   "outputs": [],
   "source": [
    "# Save / load the trained model\n",
    "# Load a model from local checkpoints\n",
    "epoch_id = 20\n",
    "\n",
    "model_loaded = tf.keras.models.load_model('beauty_model_untuned_epoch%d.h5' % epoch_id)\n",
    "# Save the final model\n",
    "models_path = os.path.relpath(\"models\")\n",
    "assert os.path.exists(models_path)\n",
    "\n",
    "# Save the final model\n",
    "model.save(os.path.join(models_path, \"beauty_model_untuned\"))  # creates a HDF5 file 'final_beauty_model.h5'\n",
    "# INFO:tensorflow:Assets written to: models/beauty_model_untuned/assets\n",
    "import os\n",
    "import tensorflow as tf\n",
    "\n",
    "# Load the final model\n",
    "models_path = os.path.relpath(\"models\")\n",
    "print(models_path)\n",
    "\n",
    "# model_loaded = tensorflow.keras.models.load_model(os.path.join(models_path, \"beauty_model_untuned\"))"
   ]
  },
  {
   "cell_type": "code",
   "execution_count": null,
   "id": "c55227ea",
   "metadata": {},
   "outputs": [],
   "source": [
    "# 5. Use your model"
   ]
  }
 ],
 "metadata": {
  "kernelspec": {
   "display_name": "Python 3 (ipykernel)",
   "language": "python",
   "name": "python3"
  },
  "language_info": {
   "codemirror_mode": {
    "name": "ipython",
    "version": 3
   },
   "file_extension": ".py",
   "mimetype": "text/x-python",
   "name": "python",
   "nbconvert_exporter": "python",
   "pygments_lexer": "ipython3",
   "version": "3.7.10"
  }
 },
 "nbformat": 4,
 "nbformat_minor": 5
}

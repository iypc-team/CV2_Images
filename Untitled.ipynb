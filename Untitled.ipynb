{
 "cells": [
  {
   "cell_type": "code",
   "execution_count": null,
   "id": "a591472d",
   "metadata": {},
   "outputs": [],
   "source": [
    "# 11/27/2021-1\n",
    "# https://www.tensorflow.org/hub/tutorials/tf2_image_retraining\n",
    "from __future__ import absolute_import, division\n",
    "from IPython.display import clear_output\n",
    "from BashColors import C\n",
    "\n",
    "# import itertools\n",
    "import glob, os\n",
    "from os.path import abspath, exists, join\n",
    "os.environ['TF_CPP_MIN_LOG_LEVEL'] = '2' \n",
    "\n",
    "\n",
    "import matplotlib.pylab as plt\n",
    "import numpy as np\n",
    "import tensorflow as tf\n",
    "\n",
    "contentPath=os.getcwd()\n",
    "testPath=join(contentPath, 'TestImages')\n",
    "\n",
    "print(f\"TF version:  {C.BIBlue}{tf.__version__}{C.ColorOff}\")"
   ]
  },
  {
   "cell_type": "code",
   "execution_count": null,
   "id": "a7a1293e",
   "metadata": {},
   "outputs": [],
   "source": [
    "cv2Path=join(contentPath, 'CV2Images')\n",
    "IMAGE_SIZE=(224, 224)\n",
    "def build_dataset():\n",
    "  return tf.keras.preprocessing.image_dataset_from_directory(\n",
    "      testPath,\n",
    "      # validation_split=0.0,\n",
    "      # subset=subset,\n",
    "      label_mode=\"categorical\",\n",
    "      # Seed needs to provided when using validation_split and shuffle = True.\n",
    "      # A fixed seed is used so that the validation set is stable across runs.\n",
    "      seed=123,\n",
    "      image_size=IMAGE_SIZE,\n",
    "      batch_size=1)\n",
    "\n",
    "test_ds = build_dataset()\n",
    "class_names = tuple(test_ds.class_names)\n",
    "train_size = test_ds.cardinality().numpy()\n",
    "test_ds = test_ds.unbatch().batch(BATCH_SIZE)\n",
    "test_ds = test_ds.repeat()\n",
    "\n",
    "normalization_layer = tf.keras.layers.Rescaling(1. / 255)\n",
    "preprocessing_model = tf.keras.Sequential([normalization_layer])\n",
    "do_data_augmentation = True\n",
    "\n",
    "if do_data_augmentation:\n",
    "  preprocessing_model.add(\n",
    "      tf.keras.layers.RandomRotation(75))\n",
    "  preprocessing_model.add(\n",
    "      tf.keras.layers.RandomTranslation(0, 0.2))\n",
    "  preprocessing_model.add(\n",
    "      tf.keras.layers.RandomTranslation(0.2, 0))\n",
    "  # Like the old tf.keras.preprocessing.image.ImageDataGenerator(),\n",
    "  # image sizes are fixed when reading, and then a random zoom is applied.\n",
    "  # If all training inputs are larger than image_size, one could also use\n",
    "  # RandomCrop with a batch size of 1 and rebatch later.\n",
    "  preprocessing_model.add(\n",
    "      tf.keras.layers.RandomZoom(0.2, 0.2))\n",
    "  preprocessing_model.add(\n",
    "      tf.keras.layers.RandomFlip(mode=\"horizontal\"))\n",
    "test_ds = test_ds.map(lambda images, labels:\n",
    "                        (preprocessing_model(images), labels))"
   ]
  },
  {
   "cell_type": "code",
   "execution_count": null,
   "id": "f0286273",
   "metadata": {},
   "outputs": [],
   "source": [
    "# val_ds = build_dataset(\"validation\")\n",
    "valid_size = val_ds.cardinality().numpy()\n",
    "val_ds = val_ds.unbatch().batch(BATCH_SIZE)\n",
    "val_ds = val_ds.map(lambda images, labels:\n",
    "                    (normalization_layer(images), labels))"
   ]
  },
  {
   "cell_type": "code",
   "execution_count": null,
   "id": "18158986",
   "metadata": {},
   "outputs": [],
   "source": [
    "modelGlobList=glob.glob('*.h5', recursive=True)\n",
    "for pth in sorted(modelGlobList):\n",
    "    fullPath=abspath(pth)\n",
    "    print(fullPath)"
   ]
  },
  {
   "cell_type": "code",
   "execution_count": null,
   "id": "5d49269b",
   "metadata": {},
   "outputs": [],
   "source": [
    "\n"
   ]
  }
 ],
 "metadata": {
  "kernelspec": {
   "display_name": "Python 3 (ipykernel)",
   "language": "python",
   "name": "python3"
  },
  "language_info": {
   "codemirror_mode": {
    "name": "ipython",
    "version": 3
   },
   "file_extension": ".py",
   "mimetype": "text/x-python",
   "name": "python",
   "nbconvert_exporter": "python",
   "pygments_lexer": "ipython3",
   "version": "3.7.12"
  }
 },
 "nbformat": 4,
 "nbformat_minor": 5
}

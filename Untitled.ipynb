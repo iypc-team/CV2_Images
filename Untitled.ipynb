{
 "cells": [
  {
   "cell_type": "code",
   "execution_count": null,
   "id": "a591472d",
   "metadata": {},
   "outputs": [],
   "source": [
    "# 11/27/2021-1\n",
    "# https://www.tensorflow.org/hub/tutorials/tf2_image_retraining\n",
    "from __future__ import absolute_import, division\n",
    "from IPython.display import clear_output\n",
    "from BashColors import C\n",
    "\n",
    "# import itertools\n",
    "import glob, os\n",
    "from os.path import abspath, exists, join\n",
    "os.environ['TF_CPP_MIN_LOG_LEVEL'] = '2' \n",
    "\n",
    "\n",
    "import matplotlib.pylab as plt\n",
    "import numpy as np\n",
    "import tensorflow as tf\n",
    "\n",
    "contentPath=os.getcwd()\n",
    "\n",
    "print(f\"TF version:  {C.BIBlue}{tf.__version__}{C.ColorOff}\")"
   ]
  },
  {
   "cell_type": "code",
   "execution_count": null,
   "id": "18158986",
   "metadata": {},
   "outputs": [],
   "source": [
    "modelGlobList=glob.glob('*.h5', recursive=True)\n",
    "for pth in sorted(modelGlobList):\n",
    "    fullPath=abspath(pth)\n",
    "    print(fullPath)"
   ]
  }
 ],
 "metadata": {
  "kernelspec": {
   "display_name": "Python 3 (ipykernel)",
   "language": "python",
   "name": "python3"
  },
  "language_info": {
   "codemirror_mode": {
    "name": "ipython",
    "version": 3
   },
   "file_extension": ".py",
   "mimetype": "text/x-python",
   "name": "python",
   "nbconvert_exporter": "python",
   "pygments_lexer": "ipython3",
   "version": "3.7.12"
  }
 },
 "nbformat": 4,
 "nbformat_minor": 5
}

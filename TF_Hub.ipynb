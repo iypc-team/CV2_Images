{
 "cells": [
  {
   "cell_type": "code",
   "execution_count": null,
   "id": "135b35ba",
   "metadata": {},
   "outputs": [],
   "source": [
    "from __future__ import absolute_import, division\n",
    "from BashColors import C\n",
    "import os\n",
    "from os.path import *\n",
    "\n",
    "contentPath=os.getcwd()\n",
    "\n",
    "try: \n",
    "    import tensorflow as tf\n",
    "    print(tf.__version__)\n",
    "except:\n",
    "    %pip install --upgrade tensorflow\n",
    "    import tensorflow as tf\n",
    "    print(tf.__version__)\n",
    "\n",
    "try: \n",
    "    import tensorflow_hub as hub\n",
    "    print(hub.__version__)\n",
    "    # from tensorflow_hub import *\n",
    "except Exception as err:\n",
    "    %pip install tensorflow-hub\n",
    "    # %pip install --upgrade tensorflow_hub\n",
    "    # !pip install --upgrade tensorflow_hub\n",
    "    import tensorflow_hub as hub\n",
    "    "
   ]
  },
  {
   "cell_type": "code",
   "execution_count": null,
   "id": "19628dc9",
   "metadata": {},
   "outputs": [],
   "source": [
    "imagePath=join(contentPath )\n",
    "%ls -l"
   ]
  },
  {
   "cell_type": "code",
   "execution_count": null,
   "id": "9ed37f6f",
   "metadata": {},
   "outputs": [],
   "source": [
    "# Apply image detector on a single image.\n",
    "detector = hub.load(\"https://tfhub.dev/tensorflow/ssd_mobilenet_v1/fpn_640x640/1\")\n",
    "detector_output = detector(image_tensor)\n",
    "class_ids = detector_output[\"detection_classes\"]"
   ]
  },
  {
   "cell_type": "code",
   "execution_count": null,
   "id": "cb8c7871",
   "metadata": {},
   "outputs": [],
   "source": [
    "help(detector)"
   ]
  },
  {
   "cell_type": "code",
   "execution_count": null,
   "id": "9f068887",
   "metadata": {},
   "outputs": [],
   "source": [
    "# model = hub.KerasLayer(\"https://tfhub.dev/google/nnlm-en-dim128/2\")\n",
    "# embeddings = model([\"The rain in Spain.\", \"falls\", \"mainly\", \"In the plain!\"])\n",
    "# print(embeddings.shape)  #(4,128)"
   ]
  }
 ],
 "metadata": {
  "kernelspec": {
   "display_name": "Python 3 (ipykernel)",
   "language": "python",
   "name": "python3"
  },
  "language_info": {
   "codemirror_mode": {
    "name": "ipython",
    "version": 3
   },
   "file_extension": ".py",
   "mimetype": "text/x-python",
   "name": "python",
   "nbconvert_exporter": "python",
   "pygments_lexer": "ipython3",
   "version": "3.7.12"
  }
 },
 "nbformat": 4,
 "nbformat_minor": 5
}
